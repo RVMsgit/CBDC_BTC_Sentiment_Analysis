{
 "cells": [
  {
   "cell_type": "code",
   "execution_count": 1,
   "metadata": {},
   "outputs": [],
   "source": [
    "\n",
    "import tweepy as tw\n",
    "import requests as r\n",
    "import pandas as pd\n",
    "\n",
    "key = 'NmifFbXZ6spkV0RPTwurUrHn0'\n",
    "secret = 'HXMKuGeoTNaCazBysYzlzPdzpOSib73PvMrYgKZYCjc0ToWQnn'\n",
    "token = 'AAAAAAAAAAAAAAAAAAAAAFEGiwEAAAAAKOWk8kVyOSIHKOb%2FLf5qIeTTpgw%3DppTliBuhwLzHhCyr58JDeDmEoDdZyQj6epklVGQzVfJaU8Xlbw'\n"
   ]
  }
 ],
 "metadata": {
  "kernelspec": {
   "display_name": "Python 3.10.7 64-bit",
   "language": "python",
   "name": "python3"
  },
  "language_info": {
   "codemirror_mode": {
    "name": "ipython",
    "version": 3
   },
   "file_extension": ".py",
   "mimetype": "text/x-python",
   "name": "python",
   "nbconvert_exporter": "python",
   "pygments_lexer": "ipython3",
   "version": "3.10.7"
  },
  "orig_nbformat": 4,
  "vscode": {
   "interpreter": {
    "hash": "d80285975321ab3a05257216c70fd494aa3cb4bfc0ad7c2a2354e2a40979c13d"
   }
  }
 },
 "nbformat": 4,
 "nbformat_minor": 2
}
